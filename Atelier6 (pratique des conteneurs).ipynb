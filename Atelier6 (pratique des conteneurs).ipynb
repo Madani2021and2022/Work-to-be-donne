{
 "cells": [
  {
   "cell_type": "markdown",
   "metadata": {},
   "source": [
    "# Pratique des conteneurs"
   ]
  },
  {
   "cell_type": "markdown",
   "metadata": {},
   "source": [
    "## Exercice 1"
   ]
  },
  {
   "cell_type": "code",
   "execution_count": null,
   "metadata": {},
   "outputs": [],
   "source": [
    "lst = [i for i in range(10)]\n",
    "print(\"Nombre d'éléments:\",len(lst))\n",
    "print(\"Liste:\",lst)"
   ]
  },
  {
   "cell_type": "markdown",
   "metadata": {},
   "source": [
    "## Exercice 2"
   ]
  },
  {
   "cell_type": "code",
   "execution_count": null,
   "metadata": {},
   "outputs": [],
   "source": [
    "ch = \"Hello world how are you\"\n",
    "print(\"Les caractères\")\n",
    "for car in ch:\n",
    "    print(car)\n",
    "print(\"Le nombre de caractères:\", len(ch))\n",
    "tab = ch.split()\n",
    "print(\"le nombre de mots:\", len(tab))"
   ]
  },
  {
   "cell_type": "markdown",
   "metadata": {},
   "source": [
    "## Exercice 3"
   ]
  },
  {
   "cell_type": "code",
   "execution_count": null,
   "metadata": {},
   "outputs": [],
   "source": [
    "f = open(\"fich1.txt\",\"w\")\n",
    "f.write(\"Bonjour tout le monde!\")\n",
    "f.close()\n",
    "f = open(\"fich1.txt\",\"a\")\n",
    "f.write(\"\\nA bientôt\")\n",
    "f.close()\n",
    "f = open(\"fich1.txt\",\"r\")\n",
    "content = f.read()\n",
    "f.close()\n",
    "print(content)\n",
    "f = open(\"fich1.txt\",\"r\")\n",
    "i = 0\n",
    "for line in f:\n",
    "    print(\"Line \",i,\":\",line)\n",
    "    i+=1\n",
    "f.close()"
   ]
  },
  {
   "cell_type": "markdown",
   "metadata": {},
   "source": [
    "## Exercice 4"
   ]
  },
  {
   "cell_type": "code",
   "execution_count": null,
   "metadata": {},
   "outputs": [],
   "source": [
    "f = open(\"fich1.txt\",\"r\")\n",
    "content = f.read()\n",
    "f.close()\n",
    "f = open(\"fich2.txt\",\"w\")\n",
    "f.write(content)\n",
    "f.close()"
   ]
  },
  {
   "cell_type": "markdown",
   "metadata": {},
   "source": [
    "## Exercice 5"
   ]
  },
  {
   "cell_type": "code",
   "execution_count": null,
   "metadata": {},
   "outputs": [],
   "source": [
    "print(\"Tous les employés\")\n",
    "f = open(\"emp.csv\",\"r\")\n",
    "content = f.read()\n",
    "f.close()\n",
    "print(content)\n",
    "print(\"Les noms des employés\")\n",
    "f = open(\"emp.csv\",\"r\")\n",
    "for line in f:\n",
    "    tab = line.split(\",\")\n",
    "    print(tab[1])\n",
    "f.close()\n",
    "print(\"Les employés de Casa\")\n",
    "f = open(\"emp.csv\",\"r\")\n",
    "for line in f:\n",
    "    tab = line.split(\",\")\n",
    "    if tab[3].strip()=='Casa':\n",
    "        print(tab[1])\n",
    "f.close()\n",
    "print(\"Les employés ayant un salaire donné\")\n",
    "salaire = float(input('Donnez un salaire:'))\n",
    "f = open(\"emp.csv\",\"r\")\n",
    "for line in f:\n",
    "    tab = line.split(\",\")\n",
    "    if float(tab[2])==salaire:\n",
    "        print(tab[1])\n",
    "f.close()\n",
    "print(\"Les employés ayant un salaire inférieur à une valeur donnée\")\n",
    "salaire = float(input('Donnez un salaire:'))\n",
    "f = open(\"emp.csv\",\"r\")\n",
    "for line in f:\n",
    "    tab = line.split(\",\")\n",
    "    if float(tab[2])<salaire:\n",
    "        print(tab[1])\n",
    "f.close()"
   ]
  },
  {
   "cell_type": "markdown",
   "metadata": {},
   "source": [
    "## Exercice 6"
   ]
  },
  {
   "cell_type": "code",
   "execution_count": null,
   "metadata": {},
   "outputs": [],
   "source": [
    "\"\"\"\n",
    "print(\"Les noms des films\")\n",
    "f = open(\"movies.csv\",\"r\",encoding='utf-8')\n",
    "for line in f:\n",
    "    line = line.strip()\n",
    "    tab = line.split(\",\")\n",
    "    print(tab[1])\n",
    "f.close()\n",
    "\n",
    "print(\"Les films commençant par The\")\n",
    "f = open(\"movies.csv\",\"r\",encoding='utf-8')\n",
    "for line in f:\n",
    "    line = line.strip()\n",
    "    tab = line.split(\",\")\n",
    "    if tab[1].startswith(\"The\"):\n",
    "        print(tab[1])\n",
    "f.close()\n",
    "\n",
    "print(\"Les films produits en une date donnée\")\n",
    "year = input(\"Donnez une année:\")\n",
    "f = open(\"movies.csv\",\"r\",encoding='utf-8')\n",
    "for line in f:\n",
    "    line = line.strip()\n",
    "    tab = line.split(\",\")\n",
    "    if year in tab[1]:\n",
    "        print(tab[1])\n",
    "f.close()\n",
    "\"\"\"\n",
    "print(\"Le nombre de films produits en une date donnée\")\n",
    "year = input(\"Donnez une année:\")\n",
    "f = open(\"movies.csv\",\"r\",encoding='utf-8')\n",
    "nbre = 0\n",
    "for line in f:\n",
    "    line = line.strip()\n",
    "    tab = line.split(\",\")\n",
    "    if year in tab[1]:\n",
    "        nbre+=1\n",
    "f.close()\n",
    "print(\"#nbre:\",nbre)"
   ]
  },
  {
   "cell_type": "markdown",
   "metadata": {},
   "source": [
    "## Exercice 7"
   ]
  },
  {
   "cell_type": "code",
   "execution_count": null,
   "metadata": {},
   "outputs": [],
   "source": [
    "phrase1 = \"Bonjour tout le monde\"\n",
    "phrase2 = \"Notre Monde est mervielleux\"\n",
    "phrase1 = phrase1.lower()\n",
    "phrase2 = phrase2.lower()\n",
    "lst1 = phrase1.split()\n",
    "lst2 = phrase2.split()\n",
    "set1 = set(lst1)\n",
    "set2 = set(lst2)\n",
    "coef = len(set1&set2)/len(set1|set2)\n",
    "coef"
   ]
  }
 ],
 "metadata": {
  "kernelspec": {
   "display_name": "Python 3",
   "language": "python",
   "name": "python3"
  },
  "language_info": {
   "codemirror_mode": {
    "name": "ipython",
    "version": 3
   },
   "file_extension": ".py",
   "mimetype": "text/x-python",
   "name": "python",
   "nbconvert_exporter": "python",
   "pygments_lexer": "ipython3",
   "version": "3.8.3"
  }
 },
 "nbformat": 4,
 "nbformat_minor": 4
}
